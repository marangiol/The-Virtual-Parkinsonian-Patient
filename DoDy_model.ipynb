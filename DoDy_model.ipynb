{
  "cells": [
    {
      "cell_type": "code",
      "execution_count": 1,
      "metadata": {
        "id": "W4T3uk0tUYHL"
      },
      "outputs": [],
      "source": [
        "import numpy as np\n",
        "from matplotlib import pyplot as plt\n",
        "import matplotlib\n",
        "import cmath\n",
        "import sympy as sym\n",
        "from sympy import exp, symbols, lambdify\n",
        "import math\n",
        "from pytictoc import TicToc\n",
        "import numba\n",
        "from numba import jit\n",
        "import time"
      ]
    },
    {
      "cell_type": "code",
      "execution_count": 2,
      "metadata": {},
      "outputs": [],
      "source": [
        "a=0.04\n",
        "b=5.\n",
        "c=140.\n",
        "ga=12.\n",
        "gg=12.\n",
        "Delta=1.\n",
        "Eta=18.\n",
        "Iext=0.\n",
        "Ea=0.\n",
        "Eg=-80.\n",
        "tauSa=5.\n",
        "tauSg=5.\n",
        "Sja=0.8\n",
        "Sjg=1.2\n",
        "ud=12.\n",
        "alpha=0.013\n",
        "beta=.4\n",
        "k=10e4 #10e4,\n",
        "Vmax=1300.\n",
        "Km=150.\n",
        "Bd=0.2\n",
        "Ad=1.\n",
        "tau_Dp=500.\n",
        "params=np.array([a, b, c, ga, gg, Eta, Delta, Iext, Ea, Eg, Sja, Sjg, tauSa, tauSg, alpha, beta, ud, k, Vmax, Km, Bd, Ad, tau_Dp])"
      ]
    },
    {
      "cell_type": "code",
      "execution_count": 3,
      "metadata": {},
      "outputs": [],
      "source": [
        "regions_labels = [\"L.BSTS\", \"L.CACG\", \"L.CMFG\", \"L.CU\", \"L.EC\", \"L.FG\", \"L.IPG\", \"L.ITG\", \"L.ICG\",\"L.LOG\", \"L.LOFG\", \"L.LG\", \"L.MOFG\", \"L.MTG\", \"L.PHIG\", \"L.PaCG\", \"L.POP\", \"L.POR\",\"L.PTR\", \"L.PCAL\", \"L.PoCG\", \"L.PCG\", \"L.PrCG\", \"L.PCU\", \"L.RACG\", \"L.RMFG\", \"L.SFG\",\n",
        "    \"L.SPG\", \"L.STG\", \"L.SMG\", \"L.FP\", \"L.TP\", \"L.TTG\", \"L.IN\", \"L.CER\", \"L.TH\", \"L.CA\",\"L.PU\", \"L.HI\", \"L.AC\", \"lh-GPe\", \"lh-GPi\", \"lh-STN\", \"rh-GPe\",\"rh-GPi\", \"rh-STN\", \"R.TH\", \"R.CA\", \"R.PU\", \"R.HI\",  \"R.AC\", \"R.BSTS\",\n",
        "    \"R.CACG\", \"R.CMFG\", \"R.CU\", \"R.EC\", \"R.FG\", \"R.IPG\", \"R.ITG\", \"R.ICG\", \"R.LOG\",\"R.LOFG\", \"R.LG\", \"R.MOFG\", \"R.MTG\", \"R.PHIG\", \"R.PaCG\", \"R.POP\", \"R.POR\", \"R.PTR\",\"R.PCAL\", \"R.PoCG\", \"R.PCG\", \"R.PrCG\", \"R.PCU\", \"R.RACG\", \"R.RMFG\", \"R.SFG\", \"R.SPG\",\n",
        "    \"R.STG\", \"R.SMG\", \"R.FP\", \"R.TP\", \"R.TTG\", \"R.IN\", \"R.CER\",\"SubstantiaNigraLH\",\"SubstantiaNigraRH\"]\n",
        "idx_conn = [36, 37, 42, 45, 47, 48]"
      ]
    },
    {
      "cell_type": "code",
      "execution_count": 4,
      "metadata": {},
      "outputs": [],
      "source": [
        "conn_dopamine=np.load(\"conn_dopamine.npy\")\n",
        "conn_excitator=np.load(\"conn_excitator.npy\")\n",
        "conn_inhibitor=np.load(\"conn_inhibitor.npy\")"
      ]
    },
    {
      "cell_type": "code",
      "execution_count": 5,
      "metadata": {
        "id": "PH7o9C5vUYHO"
      },
      "outputs": [],
      "source": [
        "@njit\n",
        "def aQIFdopa(y,t,params,coupling_inhibitor,coupling_excitator,coupling_dopamine):\n",
        "    r = y[0*n_nodes : 1*n_nodes]\n",
        "    V = y[1*n_nodes : 2*n_nodes]\n",
        "    u = y[2*n_nodes : 3*n_nodes]\n",
        "    Sa = y[3*n_nodes : 4*n_nodes]\n",
        "    Sg = y[4*n_nodes : 5*n_nodes]\n",
        "    Dp = y[5*n_nodes : 6*n_nodes]\n",
        "    #y = np.concatenate((r, V, u, Sa, Sg, Dp))\n",
        "    a, b, c, ga, gg, Eta, Delta, Iext, Ea, Eg, Sja, Sjg, tauSa, tauSg, alpha, beta, ud, k, Vmax, Km, Bd, Ad, tau_Dp=params\n",
        "    c_inh = coupling_inhibitor\n",
        "    c_exc = coupling_excitator\n",
        "    c_dopa = coupling_dopamine\n",
        "\n",
        "    dydt = np.concatenate((\n",
        "        2. * a * r * V + b * r - ga * Sa * r - gg * Sg * r + (a * Delta) / np.pi,\n",
        "        a * V**2 + b * V + c + Eta - (np.pi**2 * r**2) / a + (Ad * Dp + Bd) * ga * Sa * (Ea - V) + gg * Sg * (Eg - V) + Iext - u,\n",
        "        alpha * (beta * V - u) + ud * r,\n",
        "        -Sa / tauSa + Sja * c_exc,\n",
        "        -Sg / tauSg + Sjg * c_inh,\n",
        "        (k * c_dopa - Vmax * Dp / (Km + Dp)) / tau_Dp\n",
        "    )).flatten()\n",
        "\n",
        "    return dydt"
      ]
    },
    {
      "cell_type": "code",
      "execution_count": 6,
      "metadata": {
        "id": "oaAUqfV5UYHP"
      },
      "outputs": [],
      "source": [
        "@njit\n",
        "def network(y, t, coupling_weights, params):\n",
        "    r = y[0*n_nodes : 1*n_nodes]\n",
        "    V = y[1*n_nodes : 2*n_nodes]\n",
        "    u = y[2*n_nodes : 3*n_nodes]\n",
        "    Sa = y[3*n_nodes : 4*n_nodes]\n",
        "    Sg = y[4*n_nodes : 5*n_nodes]\n",
        "    Dp = y[5*n_nodes : 6*n_nodes]\n",
        "\n",
        "    aff_inhibitor = conn_inhibitor @ r * coupling_weights[0]\n",
        "    aff_excitator = conn_excitator @ r * coupling_weights[1]\n",
        "    aff_dopamine = conn_dopamine @ r * coupling_weights[2]\n",
        "    dx = aQIFdopa(y, t, params, aff_inhibitor, aff_excitator, aff_dopamine)\n",
        "    return dx"
      ]
    },
    {
      "cell_type": "code",
      "execution_count": 8,
      "metadata": {
        "id": "gdHOMVbRUYHP"
      },
      "outputs": [],
      "source": [
        "@njit\n",
        "def DodyModel(network,y0,t0,t_max,dt,params,coupling_weights,sigma):\n",
        "    print(coupling_weights)\n",
        "    num_steps = int((t_max - t0) / dt)\n",
        "    y_all = np.empty((num_steps//100, len(y0)))\n",
        "    t_all = np.empty((num_steps//100, ))\n",
        "    stochastic_matrix = sigma * np.random.normal(0, 1, (len(y0),num_steps))*np.sqrt(dt)\n",
        "    t=t0;  i=0\n",
        "    t_all[i] = t0\n",
        "    y_all[i, :] = y0\n",
        "    y=y0\n",
        "    count=0\n",
        "    for step in range(num_steps):\n",
        "        dw = stochastic_matrix[:,step] \n",
        "        ye = y + dt * network(y, t,coupling_weights,params) + dw  \n",
        "        y = y + 0.5 * dt * (network(y, t,coupling_weights,params) + network(ye, t + dt,coupling_weights,params)) + dw\n",
        "        t=t+dt\n",
        "        count+=1\n",
        "        if  (count % 100)==0 and (i< (t_all.shape[0]-1)):\n",
        "            i+=1\n",
        "            t_all[i]=t\n",
        "            y_all[i,:]=y\n",
        "    return (y_all, t_all)"
      ]
    },
    {
      "cell_type": "markdown",
      "metadata": {},
      "source": [
        "One simulation taking into account only one set of parameters for c_exc, c_inh, c_dopa"
      ]
    },
    {
      "cell_type": "code",
      "execution_count": 12,
      "metadata": {
        "id": "68kcCONTUYHP"
      },
      "outputs": [
        {
          "name": "stderr",
          "output_type": "stream",
          "text": [
            "/tmp/ipykernel_115700/1661277471.py:18: NumbaPendingDeprecationWarning: \u001b[1m\u001b[1m\n",
            "Encountered the use of a type that is scheduled for deprecation: type 'reflected list' found for argument 'coupling_weights' of function 'network'.\n",
            "\n",
            "For more information visit https://numba.readthedocs.io/en/stable/reference/deprecation.html#deprecation-of-reflection-for-list-and-set-types\n",
            "\u001b[1m\n",
            "File \"../../../../tmp/ipykernel_115700/1681465117.py\", line 4:\u001b[0m\n",
            "\u001b[1m<source missing, REPL/exec in use?>\u001b[0m\n",
            "\u001b[0m\u001b[0m\n",
            "  ye = y + dt * network(y, t,coupling_weights,params) + dw\n",
            "/home/ilenia/.local/lib/python3.8/site-packages/numba/core/ir_utils.py:2172: NumbaPendingDeprecationWarning: \u001b[1m\n",
            "Encountered the use of a type that is scheduled for deprecation: type 'reflected list' found for argument 'coupling_weights' of function 'DodyModel'.\n",
            "\n",
            "For more information visit https://numba.readthedocs.io/en/stable/reference/deprecation.html#deprecation-of-reflection-for-list-and-set-types\n",
            "\u001b[1m\n",
            "File \"../../../../tmp/ipykernel_115700/1661277471.py\", line 4:\u001b[0m\n",
            "\u001b[1m<source missing, REPL/exec in use?>\u001b[0m\n",
            "\u001b[0m\n",
            "  warnings.warn(NumbaPendingDeprecationWarning(msg, loc=loc))\n"
          ]
        },
        {
          "name": "stdout",
          "output_type": "stream",
          "text": [
            "[0.07, 0.07, 0.7]\n"
          ]
        }
      ],
      "source": [
        "# import time\n",
        "# start_time=time.time()\n",
        "n_nodes=conn_dopamine.shape[0]\n",
        "dt = 0.001\n",
        "t0 = 0.0\n",
        "tf = 1000.0\n",
        "c_inh=7e-2\n",
        "c_exc=7e-2\n",
        "c_dopa=7e-1\n",
        "sigma=1e-5\n",
        "r0 = np.full(n_nodes, 0.1)\n",
        "V0 = np.full(n_nodes, -70.0)\n",
        "u0 = np.full(n_nodes, 0.0)\n",
        "Sa0 = np.full(n_nodes, 0.0)\n",
        "Sg0 = np.full(n_nodes, 0.0)\n",
        "Dp0 = np.full(n_nodes, 0.05)\n",
        "y0 = np.concatenate((r0, V0, u0, Sa0, Sg0, Dp0))\n",
        "coupling_weights=([c_inh,c_exc,c_dopa])\n",
        "(y_all_original,t_all)=DodyModel(network, y0, t0, tf, dt, params, coupling_weights, sigma)\n"
      ]
    },
    {
      "cell_type": "code",
      "execution_count": 13,
      "metadata": {},
      "outputs": [
        {
          "data": {
            "text/plain": [
              "(10000, 528)"
            ]
          },
          "execution_count": 13,
          "metadata": {},
          "output_type": "execute_result"
        }
      ],
      "source": [
        "y_all_original.shape"
      ]
    },
    {
      "cell_type": "markdown",
      "metadata": {},
      "source": [
        "More simulations taking into account several values for c_dopa parameter"
      ]
    },
    {
      "cell_type": "code",
      "execution_count": 15,
      "metadata": {},
      "outputs": [
        {
          "name": "stdout",
          "output_type": "stream",
          "text": [
            "[0.07       0.07       0.80399388]\n",
            "[0.07       0.07       0.80399388]\n",
            "[0.07      0.07      6.6581111]\n",
            "[0.07      0.07      6.6581111]\n",
            "[0.07       0.07       6.92274666]\n",
            "[0.07       0.07       6.92274666]\n",
            "[0.07       0.07       5.18077374]\n",
            "[0.07       0.07       5.18077374]\n",
            "[0.07       0.07       6.92909145]\n",
            "[0.07       0.07       6.92909145]\n",
            "[0.07       0.07       5.13758612]\n",
            "[0.07       0.07       5.13758612]\n",
            "[0.07       0.07       2.22429156]\n",
            "[0.07       0.07       2.22429156]\n",
            "[0.07       0.07       1.61274552]\n",
            "[0.07       0.07       1.61274552]\n",
            "[0.07       0.07       2.13183904]\n",
            "[0.07       0.07       2.13183904]\n",
            "[0.07       0.07       3.79785919]\n",
            "[0.07       0.07       3.79785919]\n"
          ]
        }
      ],
      "source": [
        "import sbi.utils as utils\n",
        "import torch\n",
        "dt = 0.001\n",
        "t0 = 0.0\n",
        "tf = 1000.0\n",
        "sigma=1e-5\n",
        "r0 = np.full(n_nodes, 0.1)\n",
        "V0 = np.full(n_nodes, -70.0)\n",
        "u0 = np.full(n_nodes, 0.0)\n",
        "Sa0 = np.full(n_nodes, 0.0)\n",
        "Sg0 = np.full(n_nodes, 0.0)\n",
        "Dp0 = np.full(n_nodes, 0.05)\n",
        "y0 = np.concatenate((r0, V0, u0, Sa0, Sg0, Dp0))\n",
        "npoint=tf/dt/100\n",
        "number_of_variables=6\n",
        "\n",
        "prior_min = [7e-1]   # min value used for simulations\n",
        "prior_max = [7e-0]   # max value used for simulations\n",
        "prior = utils.torchutils.BoxUniform(low=torch.as_tensor(prior_min), high=torch.as_tensor(prior_max))\n",
        "\n",
        "   \n",
        "num_simulations=10\n",
        "ckk_inh=7e-2\n",
        "ckk_exc=7e-2\n",
        "matrix_C_XXX = np.zeros((num_simulations, 3))\n",
        "matrix_C_XXX[:, 0] = c_inh \n",
        "matrix_C_XXX[:, 1] = c_exc\n",
        "\n",
        "MM = np.zeros((matrix_C_XXX.shape[0],number_of_variables*n_nodes,int(npoint)))\n",
        "\n",
        "for i in range(num_simulations):\n",
        "    c_dopa = prior.sample().numpy()  \n",
        "    matrix_C_XXX[i, 2] = c_dopa.item()  \n",
        "    coupling_weights=np.array([c_inh, c_exc, c_dopa.item()])\n",
        "    print(coupling_weights)\n",
        "    # Run simulation here with the current combination of parameters\n",
        "    (y_all, t_all) = DodyModel(network, y0, t0, tf, dt, params, coupling_weights, sigma)\n",
        "    MM[i,:,:] = np.array(y_all).T\n",
        "            "
      ]
    },
    {
      "cell_type": "code",
      "execution_count": 25,
      "metadata": {},
      "outputs": [],
      "source": [
        "np.save(\"matrix_all.npy\", MM)\n",
        "np.save(\"t_all.npy\", t_all)\n",
        "np.save(\"cexc_cinh_cdopa.npy\",matrix_C_XXX)"
      ]
    }
  ],
  "metadata": {
    "colab": {
      "provenance": []
    },
    "kernelspec": {
      "display_name": "Python 3",
      "language": "python",
      "name": "python3"
    },
    "language_info": {
      "codemirror_mode": {
        "name": "ipython",
        "version": 3
      },
      "file_extension": ".py",
      "mimetype": "text/x-python",
      "name": "python",
      "nbconvert_exporter": "python",
      "pygments_lexer": "ipython3",
      "version": "3.8.10"
    }
  },
  "nbformat": 4,
  "nbformat_minor": 0
}
